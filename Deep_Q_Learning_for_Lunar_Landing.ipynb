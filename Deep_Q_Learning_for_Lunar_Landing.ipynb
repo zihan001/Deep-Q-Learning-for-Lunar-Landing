{
  "cells": [
    {
      "cell_type": "markdown",
      "metadata": {
        "id": "view-in-github",
        "colab_type": "text"
      },
      "source": [
        "<a href=\"https://colab.research.google.com/github/zihan001/Deep-Q-Learning-for-Lunar-Landing/blob/main/Deep_Q_Learning_for_Lunar_Landing.ipynb\" target=\"_parent\"><img src=\"https://colab.research.google.com/assets/colab-badge.svg\" alt=\"Open In Colab\"/></a>"
      ]
    },
    {
      "cell_type": "markdown",
      "metadata": {
        "id": "LbZcI9ZXHl3a"
      },
      "source": [
        "# Deep Q-Learning for Lunar Landing"
      ]
    },
    {
      "cell_type": "markdown",
      "metadata": {
        "id": "E8yPRjteXgPb"
      },
      "source": [
        "## Part 0 - Installing the required packages and importing the libraries"
      ]
    },
    {
      "cell_type": "markdown",
      "metadata": {
        "id": "slEm5teGWjWU"
      },
      "source": [
        "### Installing Gymnasium"
      ]
    },
    {
      "cell_type": "code",
      "execution_count": null,
      "metadata": {
        "id": "dbnq3XpoKa_7",
        "colab": {
          "base_uri": "https://localhost:8080/"
        },
        "outputId": "d17376c6-37bf-441b-b450-c70046d6943c"
      },
      "outputs": [
        {
          "output_type": "stream",
          "name": "stdout",
          "text": [
            "Collecting gymnasium\n",
            "  Downloading gymnasium-0.29.1-py3-none-any.whl (953 kB)\n",
            "\u001b[?25l     \u001b[90m━━━━━━━━━━━━━━━━━━━━━━━━━━━━━━━━━━━━━━━━\u001b[0m \u001b[32m0.0/953.9 kB\u001b[0m \u001b[31m?\u001b[0m eta \u001b[36m-:--:--\u001b[0m\r\u001b[2K     \u001b[91m━━━━━\u001b[0m\u001b[90m╺\u001b[0m\u001b[90m━━━━━━━━━━━━━━━━━━━━━━━━━━━━━━━━━━\u001b[0m \u001b[32m122.9/953.9 kB\u001b[0m \u001b[31m3.5 MB/s\u001b[0m eta \u001b[36m0:00:01\u001b[0m\r\u001b[2K     \u001b[91m━━━━━━━━━━━━━━━━━━━━━━━━━━━━━━━━━━━━━━━\u001b[0m\u001b[91m╸\u001b[0m \u001b[32m952.3/953.9 kB\u001b[0m \u001b[31m14.1 MB/s\u001b[0m eta \u001b[36m0:00:01\u001b[0m\r\u001b[2K     \u001b[90m━━━━━━━━━━━━━━━━━━━━━━━━━━━━━━━━━━━━━━━━\u001b[0m \u001b[32m953.9/953.9 kB\u001b[0m \u001b[31m11.3 MB/s\u001b[0m eta \u001b[36m0:00:00\u001b[0m\n",
            "\u001b[?25hRequirement already satisfied: numpy>=1.21.0 in /usr/local/lib/python3.10/dist-packages (from gymnasium) (1.23.5)\n",
            "Requirement already satisfied: cloudpickle>=1.2.0 in /usr/local/lib/python3.10/dist-packages (from gymnasium) (2.2.1)\n",
            "Requirement already satisfied: typing-extensions>=4.3.0 in /usr/local/lib/python3.10/dist-packages (from gymnasium) (4.5.0)\n",
            "Collecting farama-notifications>=0.0.1 (from gymnasium)\n",
            "  Downloading Farama_Notifications-0.0.4-py3-none-any.whl (2.5 kB)\n",
            "Installing collected packages: farama-notifications, gymnasium\n",
            "Successfully installed farama-notifications-0.0.4 gymnasium-0.29.1\n",
            "Requirement already satisfied: gymnasium[accept-rom-license,atari] in /usr/local/lib/python3.10/dist-packages (0.29.1)\n",
            "Requirement already satisfied: numpy>=1.21.0 in /usr/local/lib/python3.10/dist-packages (from gymnasium[accept-rom-license,atari]) (1.23.5)\n",
            "Requirement already satisfied: cloudpickle>=1.2.0 in /usr/local/lib/python3.10/dist-packages (from gymnasium[accept-rom-license,atari]) (2.2.1)\n",
            "Requirement already satisfied: typing-extensions>=4.3.0 in /usr/local/lib/python3.10/dist-packages (from gymnasium[accept-rom-license,atari]) (4.5.0)\n",
            "Requirement already satisfied: farama-notifications>=0.0.1 in /usr/local/lib/python3.10/dist-packages (from gymnasium[accept-rom-license,atari]) (0.0.4)\n",
            "Collecting shimmy[atari]<1.0,>=0.1.0 (from gymnasium[accept-rom-license,atari])\n",
            "  Downloading Shimmy-0.2.1-py3-none-any.whl (25 kB)\n",
            "Collecting autorom[accept-rom-license]~=0.4.2 (from gymnasium[accept-rom-license,atari])\n",
            "  Downloading AutoROM-0.4.2-py3-none-any.whl (16 kB)\n",
            "Requirement already satisfied: click in /usr/local/lib/python3.10/dist-packages (from autorom[accept-rom-license]~=0.4.2->gymnasium[accept-rom-license,atari]) (8.1.7)\n",
            "Requirement already satisfied: requests in /usr/local/lib/python3.10/dist-packages (from autorom[accept-rom-license]~=0.4.2->gymnasium[accept-rom-license,atari]) (2.31.0)\n",
            "Requirement already satisfied: tqdm in /usr/local/lib/python3.10/dist-packages (from autorom[accept-rom-license]~=0.4.2->gymnasium[accept-rom-license,atari]) (4.66.1)\n",
            "Collecting AutoROM.accept-rom-license (from autorom[accept-rom-license]~=0.4.2->gymnasium[accept-rom-license,atari])\n",
            "  Downloading AutoROM.accept-rom-license-0.6.1.tar.gz (434 kB)\n",
            "\u001b[2K     \u001b[90m━━━━━━━━━━━━━━━━━━━━━━━━━━━━━━━━━━━━━━━━\u001b[0m \u001b[32m434.7/434.7 kB\u001b[0m \u001b[31m9.7 MB/s\u001b[0m eta \u001b[36m0:00:00\u001b[0m\n",
            "\u001b[?25h  Installing build dependencies ... \u001b[?25l\u001b[?25hdone\n",
            "  Getting requirements to build wheel ... \u001b[?25l\u001b[?25hdone\n",
            "  Preparing metadata (pyproject.toml) ... \u001b[?25l\u001b[?25hdone\n",
            "Collecting ale-py~=0.8.1 (from shimmy[atari]<1.0,>=0.1.0->gymnasium[accept-rom-license,atari])\n",
            "  Downloading ale_py-0.8.1-cp310-cp310-manylinux_2_17_x86_64.manylinux2014_x86_64.whl (1.7 MB)\n",
            "\u001b[2K     \u001b[90m━━━━━━━━━━━━━━━━━━━━━━━━━━━━━━━━━━━━━━━━\u001b[0m \u001b[32m1.7/1.7 MB\u001b[0m \u001b[31m44.9 MB/s\u001b[0m eta \u001b[36m0:00:00\u001b[0m\n",
            "\u001b[?25hRequirement already satisfied: importlib-resources in /usr/local/lib/python3.10/dist-packages (from ale-py~=0.8.1->shimmy[atari]<1.0,>=0.1.0->gymnasium[accept-rom-license,atari]) (6.1.1)\n",
            "Requirement already satisfied: charset-normalizer<4,>=2 in /usr/local/lib/python3.10/dist-packages (from requests->autorom[accept-rom-license]~=0.4.2->gymnasium[accept-rom-license,atari]) (3.3.2)\n",
            "Requirement already satisfied: idna<4,>=2.5 in /usr/local/lib/python3.10/dist-packages (from requests->autorom[accept-rom-license]~=0.4.2->gymnasium[accept-rom-license,atari]) (3.6)\n",
            "Requirement already satisfied: urllib3<3,>=1.21.1 in /usr/local/lib/python3.10/dist-packages (from requests->autorom[accept-rom-license]~=0.4.2->gymnasium[accept-rom-license,atari]) (2.0.7)\n",
            "Requirement already satisfied: certifi>=2017.4.17 in /usr/local/lib/python3.10/dist-packages (from requests->autorom[accept-rom-license]~=0.4.2->gymnasium[accept-rom-license,atari]) (2023.11.17)\n",
            "Building wheels for collected packages: AutoROM.accept-rom-license\n",
            "  Building wheel for AutoROM.accept-rom-license (pyproject.toml) ... \u001b[?25l\u001b[?25hdone\n",
            "  Created wheel for AutoROM.accept-rom-license: filename=AutoROM.accept_rom_license-0.6.1-py3-none-any.whl size=446660 sha256=e5b5c75c48fac5d34645c769bb5247a5910b041a06e0a37adf0a861a751eed41\n",
            "  Stored in directory: /root/.cache/pip/wheels/6b/1b/ef/a43ff1a2f1736d5711faa1ba4c1f61be1131b8899e6a057811\n",
            "Successfully built AutoROM.accept-rom-license\n",
            "Installing collected packages: ale-py, shimmy, AutoROM.accept-rom-license, autorom\n",
            "Successfully installed AutoROM.accept-rom-license-0.6.1 ale-py-0.8.1 autorom-0.4.2 shimmy-0.2.1\n",
            "Reading package lists... Done\n",
            "Building dependency tree... Done\n",
            "Reading state information... Done\n",
            "The following additional packages will be installed:\n",
            "  swig4.0\n",
            "Suggested packages:\n",
            "  swig-doc swig-examples swig4.0-examples swig4.0-doc\n",
            "The following NEW packages will be installed:\n",
            "  swig swig4.0\n",
            "0 upgraded, 2 newly installed, 0 to remove and 15 not upgraded.\n",
            "Need to get 1,116 kB of archives.\n",
            "After this operation, 5,542 kB of additional disk space will be used.\n",
            "Get:1 http://archive.ubuntu.com/ubuntu jammy/universe amd64 swig4.0 amd64 4.0.2-1ubuntu1 [1,110 kB]\n",
            "Get:2 http://archive.ubuntu.com/ubuntu jammy/universe amd64 swig all 4.0.2-1ubuntu1 [5,632 B]\n",
            "Fetched 1,116 kB in 2s (488 kB/s)\n",
            "Selecting previously unselected package swig4.0.\n",
            "(Reading database ... 120882 files and directories currently installed.)\n",
            "Preparing to unpack .../swig4.0_4.0.2-1ubuntu1_amd64.deb ...\n",
            "Unpacking swig4.0 (4.0.2-1ubuntu1) ...\n",
            "Selecting previously unselected package swig.\n",
            "Preparing to unpack .../swig_4.0.2-1ubuntu1_all.deb ...\n",
            "Unpacking swig (4.0.2-1ubuntu1) ...\n",
            "Setting up swig4.0 (4.0.2-1ubuntu1) ...\n",
            "Setting up swig (4.0.2-1ubuntu1) ...\n",
            "Processing triggers for man-db (2.10.2-1) ...\n",
            "Requirement already satisfied: gymnasium[box2d] in /usr/local/lib/python3.10/dist-packages (0.29.1)\n",
            "Requirement already satisfied: numpy>=1.21.0 in /usr/local/lib/python3.10/dist-packages (from gymnasium[box2d]) (1.23.5)\n",
            "Requirement already satisfied: cloudpickle>=1.2.0 in /usr/local/lib/python3.10/dist-packages (from gymnasium[box2d]) (2.2.1)\n",
            "Requirement already satisfied: typing-extensions>=4.3.0 in /usr/local/lib/python3.10/dist-packages (from gymnasium[box2d]) (4.5.0)\n",
            "Requirement already satisfied: farama-notifications>=0.0.1 in /usr/local/lib/python3.10/dist-packages (from gymnasium[box2d]) (0.0.4)\n",
            "Collecting box2d-py==2.3.5 (from gymnasium[box2d])\n",
            "  Downloading box2d-py-2.3.5.tar.gz (374 kB)\n",
            "\u001b[2K     \u001b[90m━━━━━━━━━━━━━━━━━━━━━━━━━━━━━━━━━━━━━━━━\u001b[0m \u001b[32m374.4/374.4 kB\u001b[0m \u001b[31m5.8 MB/s\u001b[0m eta \u001b[36m0:00:00\u001b[0m\n",
            "\u001b[?25h  Preparing metadata (setup.py) ... \u001b[?25l\u001b[?25hdone\n",
            "Requirement already satisfied: pygame>=2.1.3 in /usr/local/lib/python3.10/dist-packages (from gymnasium[box2d]) (2.5.2)\n",
            "Collecting swig==4.* (from gymnasium[box2d])\n",
            "  Downloading swig-4.1.1.post0-py2.py3-none-manylinux_2_5_x86_64.manylinux1_x86_64.whl (1.8 MB)\n",
            "\u001b[2K     \u001b[90m━━━━━━━━━━━━━━━━━━━━━━━━━━━━━━━━━━━━━━━━\u001b[0m \u001b[32m1.8/1.8 MB\u001b[0m \u001b[31m47.0 MB/s\u001b[0m eta \u001b[36m0:00:00\u001b[0m\n",
            "\u001b[?25hBuilding wheels for collected packages: box2d-py\n",
            "  Building wheel for box2d-py (setup.py) ... \u001b[?25l\u001b[?25hdone\n",
            "  Created wheel for box2d-py: filename=box2d_py-2.3.5-cp310-cp310-linux_x86_64.whl size=2349117 sha256=6cba50da5aa6e8c4c7c24a5fad9f449da783399e9084b37a5b4a36cb6b69effc\n",
            "  Stored in directory: /root/.cache/pip/wheels/db/8f/6a/eaaadf056fba10a98d986f6dce954e6201ba3126926fc5ad9e\n",
            "Successfully built box2d-py\n",
            "Installing collected packages: swig, box2d-py\n",
            "Successfully installed box2d-py-2.3.5 swig-4.1.1.post0\n"
          ]
        }
      ],
      "source": [
        "!pip install gymnasium\n",
        "!pip install \"gymnasium[atari, accept-rom-license]\"\n",
        "!apt-get install -y swig\n",
        "!pip install gymnasium[box2d]"
      ]
    },
    {
      "cell_type": "markdown",
      "metadata": {
        "id": "brqiMN3UW9T9"
      },
      "source": [
        "### Importing the libraries"
      ]
    },
    {
      "cell_type": "code",
      "execution_count": null,
      "metadata": {
        "id": "mZaKXP_aMl9O"
      },
      "outputs": [],
      "source": [
        "import os\n",
        "import random\n",
        "import numpy as np\n",
        "import torch\n",
        "import torch.nn as nn\n",
        "import torch.optim as optim\n",
        "import torch.nn.functional as F\n",
        "import torch.autograd as autograd\n",
        "from torch.autograd import Variable\n",
        "from collections import deque, namedtuple"
      ]
    },
    {
      "cell_type": "markdown",
      "metadata": {
        "id": "EzlDKXvkXzGI"
      },
      "source": [
        "## Part 1 - Building the AI"
      ]
    },
    {
      "cell_type": "markdown",
      "metadata": {
        "id": "UtG6Zc83YYy3"
      },
      "source": [
        "### Creating the architecture of the Neural Network"
      ]
    },
    {
      "cell_type": "code",
      "source": [
        "class Network(nn.Module):\n",
        "  def __init__(self, state_size, action_size, seed = 42):\n",
        "      super(Network, self).__init__()\n",
        "      self.seed = torch.manual_seed(seed)\n",
        "      self.fc1 = nn.Linear(state_size, 64)\n",
        "      self.fc2 = nn.Linear(64, 64)\n",
        "      self.fc3 = nn.Linear(64, action_size)\n",
        "\n",
        "  def forward(self, state):\n",
        "      x = self.fc1(state)\n",
        "      x = F.relu(x)\n",
        "      x = self.fc2(x)\n",
        "      x = F.relu(x)\n",
        "      return self.fc3(x)"
      ],
      "metadata": {
        "id": "CMgEiPqt8-C3"
      },
      "execution_count": null,
      "outputs": []
    },
    {
      "cell_type": "markdown",
      "metadata": {
        "id": "UxVrBnFWZKb1"
      },
      "source": [
        "## Part 2 - Training the AI"
      ]
    },
    {
      "cell_type": "markdown",
      "metadata": {
        "id": "T364fz9qZb2j"
      },
      "source": [
        "### Setting up the environment"
      ]
    },
    {
      "cell_type": "code",
      "source": [
        "import gymnasium as gym\n",
        "env = gym.make('LunarLander-v2')\n",
        "state_shape = env.observation_space.shape\n",
        "state_size = env.observation_space.shape[0]\n",
        "number_actions = env.action_space.n\n",
        "print('State shape: ', state_shape)\n",
        "print('State size: ', state_size)\n",
        "print(\"Number of actions: \", number_actions)"
      ],
      "metadata": {
        "colab": {
          "base_uri": "https://localhost:8080/"
        },
        "id": "hqxa4K85AZpN",
        "outputId": "93d730ce-2524-4310-a769-1c2a8dd381b1"
      },
      "execution_count": 4,
      "outputs": [
        {
          "output_type": "stream",
          "name": "stdout",
          "text": [
            "State shape:  (8,)\n",
            "State size:  8\n",
            "Number of actions:  4\n"
          ]
        }
      ]
    },
    {
      "cell_type": "markdown",
      "metadata": {
        "id": "c_dZmOIvZgj-"
      },
      "source": [
        "### Initializing the hyperparameters"
      ]
    },
    {
      "cell_type": "code",
      "source": [
        "learning_rate = 5e-4\n",
        "minibatch_size = 100\n",
        "discount_factor = 0.99\n",
        "replay_buffer_size = int(1e5)\n",
        "interpolation_parameter = 1e-3"
      ],
      "metadata": {
        "colab": {
          "base_uri": "https://localhost:8080/"
        },
        "id": "TNrv5xhKCc31",
        "outputId": "862c05f4-dc3d-4274-8c5c-9b43c16a1397"
      },
      "execution_count": 5,
      "outputs": [
        {
          "output_type": "stream",
          "name": "stderr",
          "text": [
            "/usr/local/lib/python3.10/dist-packages/ipykernel/ipkernel.py:283: DeprecationWarning: `should_run_async` will not call `transform_cell` automatically in the future. Please pass the result to `transformed_cell` argument and any exception that happen during thetransform in `preprocessing_exc_tuple` in IPython 7.17 and above.\n",
            "  and should_run_async(code)\n"
          ]
        }
      ]
    },
    {
      "cell_type": "markdown",
      "metadata": {
        "id": "8hD_Vs-bYnip"
      },
      "source": [
        "### Implementing Experience Replay"
      ]
    },
    {
      "cell_type": "code",
      "source": [
        "class ReplayMemory(object):\n",
        "\n",
        "  def __init__(self, capacity):\n",
        "    self.device = torch.device(\"cuda:0\" if torch.cuda.is_available() else \"cpu\")\n",
        "    self.capacity = capacity\n",
        "    self.memory = []\n",
        "\n",
        "  def push(self, event):\n",
        "    self.memory.append(event)\n",
        "    if len(self.memory) > self.capacity:\n",
        "      del self.memory[0]\n",
        "\n",
        "  def sample(self, batch_size):\n",
        "    experiences = random.sample(self.memory, k = batch_size)\n",
        "    states = torch.from_numpy(np.vstack([e[0] for e in experiences if e is not None])).float().to(self.device)\n",
        "    actions = torch.from_numpy(np.vstack([e[1] for e in experiences if e is not None])).long().to(self.device)\n",
        "    rewards = torch.from_numpy(np.vstack([e[2] for e in experiences if e is not None])).float().to(self.device)\n",
        "    next_states = torch.from_numpy(np.vstack([e[3] for e in experiences if e is not None])).float().to(self.device)\n",
        "    dones = torch.from_numpy(np.vstack([e[4] for e in experiences if e is not None]).astype(np.uint8)).float().to(self.device)\n",
        "    return states, next_states, actions, rewards, dones\n"
      ],
      "metadata": {
        "colab": {
          "base_uri": "https://localhost:8080/"
        },
        "id": "dTFdyAIxDLN7",
        "outputId": "0f1bfecc-b270-4fbd-886c-653d235d1a94"
      },
      "execution_count": 6,
      "outputs": [
        {
          "output_type": "stream",
          "name": "stderr",
          "text": [
            "/usr/local/lib/python3.10/dist-packages/ipykernel/ipkernel.py:283: DeprecationWarning: `should_run_async` will not call `transform_cell` automatically in the future. Please pass the result to `transformed_cell` argument and any exception that happen during thetransform in `preprocessing_exc_tuple` in IPython 7.17 and above.\n",
            "  and should_run_async(code)\n"
          ]
        }
      ]
    },
    {
      "cell_type": "markdown",
      "metadata": {
        "id": "JmEkbFbUY6Jt"
      },
      "source": [
        "### Implementing the DQN class"
      ]
    },
    {
      "cell_type": "code",
      "source": [
        "class Agent():\n",
        "\n",
        "  def __init__(self, state_size, action_size):\n",
        "    self.device = torch.device(\"cuda:0\" if torch.cuda.is_available() else \"cpu\")\n",
        "    self.state_size = state_size\n",
        "    self.action_size = action_size\n",
        "    self.local_qnetwork = Network(state_size, action_size).to(self.device)\n",
        "    self.target_qnetwork = Network(state_size, action_size).to(self.device)\n",
        "    self.optimizer = optim.Adam(self.local_qnetwork.parameters(), lr = learning_rate)\n",
        "    self.memory = ReplayMemory(replay_buffer_size)\n",
        "    self.t_step = 0\n",
        "\n",
        "  def step(self, state, action, reward, next_state, done):\n",
        "    self.memory.push((state, action, reward, next_state, done))\n",
        "    self.t_step = (self.t_step + 1) % 4\n",
        "    if self.t_step == 0:\n",
        "      if len(self.memory.memory) > minibatch_size:\n",
        "        experiences = self.memory.sample(100)\n",
        "        self.learn(experiences, discount_factor)\n",
        "\n",
        "  def act(self, state, epsilon = 0.):\n",
        "    state = torch.from_numpy(state).float().unsqueeze(0).to(self.device)\n",
        "    self.local_qnetwork.eval()\n",
        "    with torch.no_grad():\n",
        "      action_values = self.local_qnetwork(state)\n",
        "    self.local_qnetwork.train()\n",
        "    if random.random() > epsilon:\n",
        "      return np.argmax(action_values.cpu().data.numpy())\n",
        "    else:\n",
        "      return random.choice(np.arange(self.action_size))\n",
        "\n",
        "  def learn(self, experiences, discount_factor):\n",
        "    states, next_states, actions, rewards, dones = experiences\n",
        "    next_q_targets = self.target_qnetwork(next_states).detach().max(1)[0].unsqueeze(1)\n",
        "    q_targets = rewards + discount_factor * next_q_targets * (1 - dones)\n",
        "    q_expected = self.local_qnetwork(states).gather(1, actions)\n",
        "    loss = F.mse_loss(q_expected, q_targets)\n",
        "    self.optimizer.zero_grad()\n",
        "    loss.backward()\n",
        "    self.optimizer.step()\n",
        "    self.soft_update(self.local_qnetwork, self.target_qnetwork, interpolation_parameter)\n",
        "\n",
        "  def soft_update(self, local_model, target_model, interpolation_parameter):\n",
        "    for target_param, local_param in zip(target_model.parameters(), local_model.parameters()):\n",
        "      target_param.data.copy_(interpolation_parameter * local_param.data + (1.0 - interpolation_parameter) * target_param.data)"
      ],
      "metadata": {
        "id": "vrFNpxYyHsNV"
      },
      "execution_count": 7,
      "outputs": []
    },
    {
      "cell_type": "markdown",
      "metadata": {
        "id": "o1tZElccZmf6"
      },
      "source": [
        "### Initializing the DQN agent"
      ]
    },
    {
      "cell_type": "code",
      "source": [
        "agent = Agent(state_size, number_actions)"
      ],
      "metadata": {
        "id": "NHu9JiXVYH0D"
      },
      "execution_count": 8,
      "outputs": []
    },
    {
      "cell_type": "markdown",
      "metadata": {
        "id": "E8v0PtUfaVQp"
      },
      "source": [
        "### Training the DQN agent"
      ]
    },
    {
      "cell_type": "code",
      "source": [
        "number_episodes = 2000\n",
        "maximum_number_timesteps_per_episode = 1000\n",
        "epsilon_starting_value  = 1.0\n",
        "epsilon_ending_value  = 0.01\n",
        "epsilon_decay_value  = 0.995\n",
        "epsilon = epsilon_starting_value\n",
        "scores_on_100_episodes = deque(maxlen = 100)\n",
        "\n",
        "for episode in range(1, number_episodes + 1):\n",
        "  state, _ = env.reset()\n",
        "  score = 0\n",
        "  for t in range(maximum_number_timesteps_per_episode):\n",
        "    action = agent.act(state, epsilon)\n",
        "    next_state, reward, done, _, _ = env.step(action)\n",
        "    agent.step(state, action, reward, next_state, done)\n",
        "    state = next_state\n",
        "    score += reward\n",
        "    if done:\n",
        "      break\n",
        "  scores_on_100_episodes.append(score)\n",
        "  epsilon = max(epsilon_ending_value, epsilon_decay_value * epsilon)\n",
        "  print('\\rEpisode {}\\tAverage Score: {:.2f}'.format(episode, np.mean(scores_on_100_episodes)), end = \"\")\n",
        "  if episode % 100 == 0:\n",
        "    print('\\rEpisode {}\\tAverage Score: {:.2f}'.format(episode, np.mean(scores_on_100_episodes)))\n",
        "  if np.mean(scores_on_100_episodes) >= 200.0:\n",
        "    print('\\nEnvironment solved in {:d} episodes!\\tAverage Score: {:.2f}'.format(episode - 100, np.mean(scores_on_100_episodes)))\n",
        "    torch.save(agent.local_qnetwork.state_dict(), 'checkpoint.pth')\n",
        "    break"
      ],
      "metadata": {
        "colab": {
          "base_uri": "https://localhost:8080/"
        },
        "id": "kv3-BUcQYe3S",
        "outputId": "63ace6ea-48a1-4a89-d173-a9bb8d2121a4"
      },
      "execution_count": 9,
      "outputs": [
        {
          "output_type": "stream",
          "name": "stdout",
          "text": [
            "Episode 100\tAverage Score: -187.07\n",
            "Episode 200\tAverage Score: -107.23\n",
            "Episode 300\tAverage Score: -56.82\n",
            "Episode 400\tAverage Score: -1.05\n",
            "Episode 500\tAverage Score: 97.66\n",
            "Episode 600\tAverage Score: 173.08\n",
            "Episode 643\tAverage Score: 200.97\n",
            "Environment solved in 543 episodes!\tAverage Score: 200.97\n"
          ]
        }
      ]
    },
    {
      "cell_type": "markdown",
      "metadata": {
        "id": "O8CNwdOTcCoP"
      },
      "source": [
        "## Part 3 - Visualizing the results"
      ]
    },
    {
      "cell_type": "code",
      "execution_count": 10,
      "metadata": {
        "id": "cb9nVvU2Okhk",
        "colab": {
          "base_uri": "https://localhost:8080/",
          "height": 458
        },
        "outputId": "cd759bad-8fd5-4121-d300-20c7c31aaaec"
      },
      "outputs": [
        {
          "output_type": "stream",
          "name": "stderr",
          "text": [
            "WARNING:imageio_ffmpeg:IMAGEIO FFMPEG_WRITER WARNING: input image is not divisible by macro_block_size=16, resizing from (600, 400) to (608, 400) to ensure video compatibility with most codecs and players. To prevent resizing, make your input image divisible by the macro_block_size or set the macro_block_size to 1 (risking incompatibility).\n"
          ]
        },
        {
          "output_type": "display_data",
          "data": {
            "text/plain": [
              "<IPython.core.display.HTML object>"
            ],
            "text/html": [
              "<video alt=\"test\" autoplay\n",
              "                loop controls style=\"height: 400px;\">\n",
              "                <source src=\"data:video/mp4;base64,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\" type=\"video/mp4\" />\n",
              "             </video>"
            ]
          },
          "metadata": {}
        }
      ],
      "source": [
        "import glob\n",
        "import io\n",
        "import base64\n",
        "import imageio\n",
        "from IPython.display import HTML, display\n",
        "from gym.wrappers.monitoring.video_recorder import VideoRecorder\n",
        "\n",
        "def show_video_of_model(agent, env_name):\n",
        "    env = gym.make(env_name, render_mode='rgb_array')\n",
        "    state, _ = env.reset()\n",
        "    done = False\n",
        "    frames = []\n",
        "    while not done:\n",
        "        frame = env.render()\n",
        "        frames.append(frame)\n",
        "        action = agent.act(state)\n",
        "        state, reward, done, _, _ = env.step(action.item())\n",
        "    env.close()\n",
        "    imageio.mimsave('video.mp4', frames, fps=30)\n",
        "\n",
        "show_video_of_model(agent, 'LunarLander-v2')\n",
        "\n",
        "def show_video():\n",
        "    mp4list = glob.glob('*.mp4')\n",
        "    if len(mp4list) > 0:\n",
        "        mp4 = mp4list[0]\n",
        "        video = io.open(mp4, 'r+b').read()\n",
        "        encoded = base64.b64encode(video)\n",
        "        display(HTML(data='''<video alt=\"test\" autoplay\n",
        "                loop controls style=\"height: 400px;\">\n",
        "                <source src=\"data:video/mp4;base64,{0}\" type=\"video/mp4\" />\n",
        "             </video>'''.format(encoded.decode('ascii'))))\n",
        "    else:\n",
        "        print(\"Could not find video\")\n",
        "\n",
        "show_video()"
      ]
    }
  ],
  "metadata": {
    "colab": {
      "provenance": [],
      "include_colab_link": true
    },
    "kernelspec": {
      "display_name": "Python 3",
      "name": "python3"
    },
    "language_info": {
      "name": "python"
    }
  },
  "nbformat": 4,
  "nbformat_minor": 0
}